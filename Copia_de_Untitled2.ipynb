{
  "nbformat": 4,
  "nbformat_minor": 0,
  "metadata": {
    "colab": {
      "provenance": [],
      "authorship_tag": "ABX9TyMhpu3fsvSTyr9pqo3RBhgI",
      "include_colab_link": true
    },
    "kernelspec": {
      "name": "python3",
      "display_name": "Python 3"
    },
    "language_info": {
      "name": "python"
    }
  },
  "cells": [
    {
      "cell_type": "markdown",
      "metadata": {
        "id": "view-in-github",
        "colab_type": "text"
      },
      "source": [
        "<a href=\"https://colab.research.google.com/github/hernan-ruiz/primerproyectoGit/blob/main/Copia_de_Untitled2.ipynb\" target=\"_parent\"><img src=\"https://colab.research.google.com/assets/colab-badge.svg\" alt=\"Open In Colab\"/></a>"
      ]
    },
    {
      "cell_type": "code",
      "execution_count": null,
      "metadata": {
        "colab": {
          "base_uri": "https://localhost:8080/"
        },
        "id": "PtaXfLhBMWAE",
        "outputId": "c6e4c39a-2bbf-4f3a-b818-a55aba2653b7"
      },
      "outputs": [
        {
          "output_type": "stream",
          "name": "stdout",
          "text": [
            "Se prestó el libro 'Cien años de soledad' a Ana Pérez\n",
            "El libro 'Cien años de soledad' fue devuelto y ahora está disponible\n"
          ]
        }
      ],
      "source": [
        "class Libro:\n",
        "    def __init__(self, titulo, autor, isbn):\n",
        "        self.titulo = titulo\n",
        "        self.autor = autor\n",
        "        self.isbn = isbn\n",
        "        self.disponible = True\n",
        "\n",
        "class Usuario:\n",
        "    def __init__(self, nombre, email):\n",
        "        self.nombre = nombre\n",
        "        self.email = email\n",
        "\n",
        "class Prestamo:\n",
        "    def __init__(self, usuario, libro):\n",
        "        self.usuario = usuario\n",
        "        self.libro = libro\n",
        "        self.activo = True\n",
        "\n",
        "class Biblioteca:\n",
        "    def __init__(self, nombre, direccion):\n",
        "        self.nombre = nombre\n",
        "        self.direccion = direccion\n",
        "        self.libros = []\n",
        "        self.usuarios = []\n",
        "        self.prestamos = []\n",
        "\n",
        "    def agregar_libro(self, libro):\n",
        "        self.libros.append(libro)\n",
        "\n",
        "    def registrar_usuario(self, usuario):\n",
        "        self.usuarios.append(usuario)\n",
        "\n",
        "    def prestar_libro(self, usuario, libro):\n",
        "        if libro.disponible:\n",
        "            prestamo = Prestamo(usuario, libro)\n",
        "            self.prestamos.append(prestamo)\n",
        "            libro.disponible = False\n",
        "            return prestamo\n",
        "        else:\n",
        "            return None\n",
        "\n",
        "    def devolver_libro(self, libro):\n",
        "        libro.disponible = True\n",
        "\n",
        "\n",
        "# ---------------- PRUEBA ----------------\n",
        "\n",
        "# Crear biblioteca\n",
        "biblio = Biblioteca(\"Biblioteca Central\", \"Calle 123\")\n",
        "\n",
        "# Crear libros\n",
        "libro1 = Libro(\"Cien años de soledad\", \"Gabriel García Márquez\", \"12345\")\n",
        "libro2 = Libro(\"El Principito\", \"Antoine de Saint-Exupéry\", \"67890\")\n",
        "biblio.agregar_libro(libro1)\n",
        "biblio.agregar_libro(libro2)\n",
        "\n",
        "# Crear usuario\n",
        "usuario1 = Usuario(\"Ana Pérez\", \"ana@example.com\")\n",
        "biblio.registrar_usuario(usuario1)\n",
        "\n",
        "# Prestar libro\n",
        "prestamo1 = biblio.prestar_libro(usuario1, libro1)\n",
        "if prestamo1:\n",
        "    print(f\"Se prestó el libro '{libro1.titulo}' a {usuario1.nombre}\")\n",
        "else:\n",
        "    print(\"El libro no está disponible\")\n",
        "\n",
        "# Devolver libro\n",
        "biblio.devolver_libro(libro1)\n",
        "print(f\"El libro '{libro1.titulo}' fue devuelto y ahora está disponible\")"
      ]
    }
  ]
}